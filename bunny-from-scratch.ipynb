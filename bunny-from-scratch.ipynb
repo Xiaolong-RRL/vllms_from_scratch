{
 "cells": [
  {
   "cell_type": "markdown",
   "metadata": {},
   "source": [
    "# 从头实现一个最小多模态大模型\n",
    "本次实现轻量级多模态大模型算法bunny（llava变体），其中大语言模型选择llama3-8b，视觉编码器选择siglip-400m，投射层选择mlp。\n",
    "\n",
    "本系列只实现模型的前向推理过程，并不设计训练和数据处理过程。\n",
    "\n",
    "* bunny-paper：https://arxiv.org/abs/2402.11530\n",
    "\n",
    "* bunny-github：https://github.com/BAAI-DCAI/Bunny\n"
   ]
  },
  {
   "cell_type": "code",
   "execution_count": null,
   "metadata": {},
   "outputs": [],
   "source": []
  }
 ],
 "metadata": {
  "language_info": {
   "name": "python"
  }
 },
 "nbformat": 4,
 "nbformat_minor": 2
}
